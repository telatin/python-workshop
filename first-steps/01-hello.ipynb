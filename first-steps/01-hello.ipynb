{
 "cells": [
  {
   "cell_type": "markdown",
   "metadata": {},
   "source": [
    "# Print and assign"
   ]
  },
  {
   "cell_type": "markdown",
   "metadata": {},
   "source": [
    "The `print()` function allows to display some text to the terminal.\n",
    "In Python every statement must end with a newline.\n",
    "\n",
    "* Here we try some print statements, and we will see that `\\t` will be converted to a tab, while `\\n` to a *new line* character.\n",
    "* Code can be commented, using a `#` before the comment string"
   ]
  },
  {
   "cell_type": "code",
   "execution_count": 8,
   "metadata": {},
   "outputs": [
    {
     "name": "stdout",
     "output_type": "stream",
     "text": [
      "Hello world!\n",
      "Watson\tCrick\tFranklin\n",
      "Wilkins\n"
     ]
    }
   ],
   "source": [
    "# Simple print statement\n",
    "print(\"Hello world!\")\n",
    "# What is \\t? Here the print function receives two arguments separated by a comma\n",
    "print(\"Watson\\tCrick\\t\", end=\"\")\n",
    "# Final print statement\n",
    "print(\"Franklin\\nWilkins\")"
   ]
  },
  {
   "cell_type": "markdown",
   "metadata": {},
   "source": [
    "## Variable assignment\n",
    "\n",
    "Now we can introduce some new **variables**. \n",
    "A variable is a named location in memory that stores a value which can be changed during program execution. \n",
    "\n",
    "Variables allow you to store, modify, and retrieve data efficiently. \n",
    "\n",
    "In Python, assignment is done using the equal sign (`=`). \n",
    "The variable name appears on the left side of the equal sign, and the value to be stored appears on the right side.\n"
   ]
  },
  {
   "cell_type": "code",
   "execution_count": 9,
   "metadata": {},
   "outputs": [],
   "source": [
    "# Variable assignments (three strings)\n",
    "codon1 = \"ATG\"\n",
    "codon2 = \"TAA\"\n",
    "codon3 = \"GCA\""
   ]
  },
  {
   "cell_type": "markdown",
   "metadata": {},
   "source": [
    "Executing the first block does not show any output: we just assigned some values (codons) to variables.\n",
    "Now we can print them"
   ]
  },
  {
   "cell_type": "code",
   "execution_count": 10,
   "metadata": {},
   "outputs": [
    {
     "name": "stdout",
     "output_type": "stream",
     "text": [
      "ATG\n",
      "TAA\n",
      "GCA\n"
     ]
    }
   ],
   "source": [
    "# Printing variables using print statement\n",
    "print(codon1)\n",
    "print(codon2)\n",
    "print(codon3)"
   ]
  },
  {
   "cell_type": "markdown",
   "metadata": {},
   "source": [
    "\n",
    "## Concatenating strings\n",
    "\n",
    "The `+` operator, when used with strings, will **concatenate** them"
   ]
  },
  {
   "cell_type": "code",
   "execution_count": 11,
   "metadata": {},
   "outputs": [
    {
     "name": "stdout",
     "output_type": "stream",
     "text": [
      "ATGTAAGCA\n",
      "ATGTAAGCA\n"
     ]
    }
   ],
   "source": [
    "# Concatenating variables in print statement: the + operator is used to concatenate strings\n",
    "print(codon1 + codon2 + codon3)\n",
    "\n",
    "# The + operator produces a concatenated string that can be assigned to a new variable\n",
    "sequence = codon1 + codon2 + codon3\n",
    "print(sequence)\n",
    "\n"
   ]
  },
  {
   "cell_type": "markdown",
   "metadata": {},
   "source": [
    "## Formatting strings\n",
    "\n",
    "In a typical print statement we will mix variables and fixed text, let's see how to do this"
   ]
  },
  {
   "cell_type": "code",
   "execution_count": 12,
   "metadata": {},
   "outputs": [
    {
     "name": "stdout",
     "output_type": "stream",
     "text": [
      "The DNA codons are: ATG, TAA, and GCA\n",
      "The DNA codons are: ATG, TAA, GCA\n",
      "The DNA codons are: ATG, TAA, GCA\n"
     ]
    }
   ],
   "source": [
    "# Formatting strings using f-string (python 3.6+)\n",
    "# The f-string is a string literal that is prefixed with 'f', it's the most convenient way to embed expressions inside string literals, but it's only available in python 3.6+ \n",
    "print(f\"The DNA codons are: {codon1}, {codon2}, {codon3}\")\n",
    "\n",
    "\n",
    "# LEGACY METHODS\n",
    "\n",
    "# Formatting strings using format() method (python 2.7+)\n",
    "print(\"The DNA codons are: {}, {}, {}\".format(codon1, codon2, codon3))\n",
    "\n",
    "# Formatting strings using % operator (python 2.7+)\n",
    "print(\"The DNA codons are: %s, %s, %s\" % (codon1, codon2, codon3))\n"
   ]
  }
 ],
 "metadata": {
  "kernelspec": {
   "display_name": "Python 3",
   "language": "python",
   "name": "python3"
  },
  "language_info": {
   "codemirror_mode": {
    "name": "ipython",
    "version": 3
   },
   "file_extension": ".py",
   "mimetype": "text/x-python",
   "name": "python",
   "nbconvert_exporter": "python",
   "pygments_lexer": "ipython3",
   "version": "3.10.14"
  }
 },
 "nbformat": 4,
 "nbformat_minor": 2
}
