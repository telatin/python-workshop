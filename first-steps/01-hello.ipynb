{
 "cells": [
  {
   "cell_type": "markdown",
   "metadata": {},
   "source": [
    "# Print and assign"
   ]
  },
  {
   "cell_type": "markdown",
   "metadata": {},
   "source": [
    "The `print()` function allows to display some text to the terminal.\n",
    "In Python every statement must end with a newline.\n",
    "\n",
    "* Here we try some print statements, and we will see that `\\t` will be converted to a tab, while `\\n` to a *new line* character.\n",
    "* Code can be commented, using a `#` before the comment string"
   ]
  },
  {
   "cell_type": "code",
   "execution_count": 8,
   "metadata": {},
   "outputs": [
    {
     "name": "stdout",
     "output_type": "stream",
     "text": [
      "Hello world!\n",
      "Watson\tCrick\tFranklin\n",
      "Wilkins\n"
     ]
    }
   ],
   "source": [
    "# Simple print statement\n",
    "print(\"Hello world!\")\n",
    "# What is \\t? Here the print function receives two arguments separated by a comma\n",
    "print(\"Watson\\tCrick\\t\", end=\"\")\n",
    "# Final print statement\n",
    "print(\"Franklin\\nWilkins\")"
   ]
  },
  {
   "cell_type": "markdown",
   "metadata": {},
   "source": [
    "## Variable assignment\n",
    "\n",
    "Now we can introduce some new **variables**. \n",
    "A variable is a named location in memory that stores a value which can be changed during program execution. \n",
    "\n",
    "Variables allow you to store, modify, and retrieve data efficiently. \n",
    "\n",
    "In Python, assignment is done using the equal sign (`=`). \n",
    "The variable name appears on the left side of the equal sign, and the value to be stored appears on the right side.\n"
   ]
  },
  {
   "cell_type": "code",
   "execution_count": 9,
   "metadata": {},
   "outputs": [],
   "source": [
    "# Variable assignments (three strings)\n",
    "codon1 = \"ATG\"\n",
    "codon2 = \"TAA\"\n",
    "codon3 = \"GCA\""
   ]
  },
  {
   "cell_type": "markdown",
   "metadata": {},
   "source": [
    "Executing the first block does not show any output: we just assigned some values (codons) to variables.\n",
    "Now we can print them"
   ]
  },
  {
   "cell_type": "code",
   "execution_count": 10,
   "metadata": {},
   "outputs": [
    {
     "name": "stdout",
     "output_type": "stream",
     "text": [
      "ATG\n",
      "TAA\n",
      "GCA\n"
     ]
    }
   ],
   "source": [
    "# Printing variables using print statement\n",
    "print(codon1)\n",
    "print(codon2)\n",
    "print(codon3)"
   ]
  },
  {
   "cell_type": "markdown",
   "metadata": {},
   "source": [
    "\n",
    "## Concatenating strings\n",
    "\n",
    "The `+` operator, when used with strings, will **concatenate** them"
   ]
  },
  {
   "cell_type": "code",
   "execution_count": 11,
   "metadata": {},
   "outputs": [
    {
     "name": "stdout",
     "output_type": "stream",
     "text": [
      "ATGTAAGCA\n",
      "ATGTAAGCA\n"
     ]
    }
   ],
   "source": [
    "# Concatenating variables in print statement: the + operator is used to concatenate strings\n",
    "print(codon1 + codon2 + codon3)\n",
    "\n",
    "# The + operator produces a concatenated string that can be assigned to a new variable\n",
    "sequence = codon1 + codon2 + codon3\n",
    "print(sequence)\n",
    "\n"
   ]
  },
  {
   "cell_type": "markdown",
   "metadata": {},
   "source": [
    "## Formatting strings\n",
    "\n",
    "In a typical print statement we will mix variables and fixed text, let's see how to do this"
   ]
  },
  {
   "cell_type": "code",
   "execution_count": 12,
   "metadata": {},
   "outputs": [
    {
     "name": "stdout",
     "output_type": "stream",
     "text": [
      "The DNA codons are: ATG, TAA, and GCA\n",
      "The DNA codons are: ATG, TAA, GCA\n",
      "The DNA codons are: ATG, TAA, GCA\n"
     ]
    }
   ],
   "source": [
    "# Formatting strings using f-string (python 3.6+)\n",
    "# The f-string is a string literal that is prefixed with 'f', it's the most convenient way to embed expressions inside string literals, but it's only available in python 3.6+ \n",
    "print(f\"The DNA codons are: {codon1}, {codon2}, {codon3}\")\n",
    "\n",
    "\n",
    "# LEGACY METHODS\n",
    "\n",
    "# Formatting strings using format() method (python 2.7+)\n",
    "print(\"The DNA codons are: {}, {}, {}\".format(codon1, codon2, codon3))\n",
    "\n",
    "# Formatting strings using % operator (python 2.7+)\n",
    "print(\"The DNA codons are: %s, %s, %s\" % (codon1, codon2, codon3))\n"
   ]
  },
  {
   "cell_type": "markdown",
   "metadata": {},
   "source": [
    "## Variable types in python\n",
    "\n",
    "* **NoneType**: absence of a value. `counts = None`\n",
    "* **Simple variable** (*strings*, *integer*, *floating point*): a variable contains a single value of a certain type. Example `pi = 3.14` or `pi = \"awesome\"`\n",
    "* **List**: it's a (mutable) ordered collection of items, which can be of different types. For example: `fruits = [\"apple\", \"banana\", \"cherry\"]`\n",
    "* **Tuple**: immutable ordered collection of items. Example: `coordinates = (1, 2, -1)`\n",
    "* **Dictionary**: collection of key-value pairs (key must be unique). Example: `person = {\"name\": \"Andrea\", \"age\": 42}`"
   ]
  },
  {
   "cell_type": "markdown",
   "metadata": {},
   "source": [
    "## Integers and strings\n",
    "\n",
    "In the following snippet we assign variables and we use the `+` operator. Note the different result of the same operator on different data types."
   ]
  },
  {
   "cell_type": "code",
   "execution_count": 2,
   "metadata": {},
   "outputs": [
    {
     "name": "stdout",
     "output_type": "stream",
     "text": [
      "Sum of a and b:\t 15\n",
      "Full name:\t John Doe\n"
     ]
    }
   ],
   "source": [
    "# Integer example\n",
    "a = 10\n",
    "b = 5\n",
    "sum_ab = a + b\n",
    "print(\"Sum of a and b:\\t\", sum_ab)\n",
    "\n",
    "# String example\n",
    "first_name = \"John\"\n",
    "last_name = \"Doe\"\n",
    "full_name = first_name + \" \" + last_name\n",
    "print(\"Full name:\\t\", full_name)\n"
   ]
  },
  {
   "cell_type": "markdown",
   "metadata": {},
   "source": [
    "## Lists\n"
   ]
  },
  {
   "cell_type": "code",
   "execution_count": 7,
   "metadata": {},
   "outputs": [
    {
     "name": "stdout",
     "output_type": "stream",
     "text": [
      "Number of fruits: 4\n",
      "Number of scientific names: 4\n",
      "The scientific name of apple is Malus domestica.\n",
      "The scientific name of cherry is Prunus avium.\n",
      "The scientific name of date is Phoenix dactylifera.\n",
      "The scientific name of Wine grape is Vitis Vinifera.\n",
      "Slice: ['cherry', 'date']\n",
      "Pruned list: ['apple', 'cherry', 'date']\n"
     ]
    }
   ],
   "source": [
    "# List of common fruits\n",
    "fruits = [\"apple\", \"cherry\", \"date\"]\n",
    "\n",
    "# Add a new fruit to the list\n",
    "fruits.append(\"Wine grape\")\n",
    "\n",
    "# List of scientific names for the fruits\n",
    "scientific_names = [\"Malus domestica\",  \"Prunus avium\", \"Phoenix dactylifera\", \"Vitis Vinifera\"]\n",
    "\n",
    "# How many elements?\n",
    "print(\"Number of fruits:\", len(fruits))\n",
    "print(\"Number of scientific names:\", len(scientific_names))\n",
    " \n",
    "# Print the fruits and their scientific names using the for loop and an index\n",
    "for i in range(len(fruits)):\n",
    "    print(f\"The scientific name of {fruits[i]} is {scientific_names[i]}.\")\n",
    "\n",
    "# Slice the list of fruits\n",
    "print(\"Slice:\",fruits[1:3])\n",
    "\n",
    "# Remove the last element from the list of fruits\n",
    "fruits.pop()\n",
    "print(\"Pruned list:\",fruits)"
   ]
  },
  {
   "cell_type": "markdown",
   "metadata": {},
   "source": [
    "## Dictionary\n",
    "\n",
    "We use the genetic code (once again) to show how to use a dictionary"
   ]
  },
  {
   "cell_type": "code",
   "execution_count": 14,
   "metadata": {},
   "outputs": [
    {
     "name": "stdout",
     "output_type": "stream",
     "text": [
      "The codon ATG codes for the amino acid: M\n",
      "Stop codons (64):\n",
      "\tTAA: *\n",
      "\tTAG: *\n",
      "\tTGA: *\n"
     ]
    }
   ],
   "source": [
    "# Dictionary mapping codons to their corresponding amino acids\n",
    "codon_to_amino_acid = {\n",
    "    'TCA': 'S',    # Serine\n",
    "    'TCC': 'S',    \n",
    "    'TCG': 'S',    \n",
    "    'TCT': 'S',   \n",
    "    'TTC': 'F',    # Phenylalanine\n",
    "    'TTT': 'F',     \n",
    "    'TTA': 'L',    # Leucine\n",
    "    'TTG': 'L',     \n",
    "    'TAC': 'Y',    # Tyrosine\n",
    "    'TAT': 'Y',   \n",
    "    'TGC': 'C',    # Cyteine\n",
    "    'TGT': 'C',   \n",
    "    \n",
    "    'TGG': 'W',    # Trytophan\n",
    "    'CTA': 'L',    \n",
    "    'CTC': 'L',    \n",
    "    'CTG': 'L',   \n",
    "    'CTT': 'L',   \n",
    "    'CCA': 'P',    # Proline\n",
    "    'CCC': 'P',     \n",
    "    'CCG': 'P',    \n",
    "    'CCT': 'P',   \n",
    "    'CAC': 'H',    # Histidine\n",
    "    'CAT': 'H',   \n",
    "    'CAA': 'Q',    # Glutamine\n",
    "    'CAG': 'Q',    \n",
    "    'CGA': 'R',    # Arginine\n",
    "    'CGC': 'R',    \n",
    "    'CGG': 'R',  \n",
    "    'CGT': 'R',  \n",
    "    'ATA': 'I',    # Isoleucine\n",
    "    'ATC': 'I',    \n",
    "    'ATT': 'I',    \n",
    "    'ATG': 'M',    # Methionine\n",
    "    'ACA': 'T',    # Threronine\n",
    "    'ACC': 'T',    \n",
    "    'ACG': 'T',    \n",
    "    'ACT': 'T',    \n",
    "    'AAC': 'N',    # Asparagine\n",
    "    'AAT': 'N',    \n",
    "    'AAA': 'K',    # Lysine\n",
    "    'AAG': 'K',  \n",
    "    'AGC': 'S',    \n",
    "    'AGT': 'S',    \n",
    "    'AGA': 'R',    # Arginine\n",
    "    'AGG': 'R',     \n",
    "    'GTA': 'V',    # Valine\n",
    "    'GTC': 'V',     \n",
    "    'GTG': 'V',    \n",
    "    'GTT': 'V',     \n",
    "    'GCA': 'A',    # Alanine\n",
    "    'GCC': 'A',    \n",
    "    'GCG': 'A',    \n",
    "    'GCT': 'A',     \n",
    "    'GAC': 'D',    # Aspartic Acid\n",
    "    'GAT': 'D',   \n",
    "    'GAA': 'E',    # Glutamic Acid\n",
    "    'GAG': 'E',    \n",
    "    'GGA': 'G',    # Glycine\n",
    "    'GGC': 'G',     \n",
    "    'GGG': 'G',     \n",
    "    'GGT': 'G'     \n",
    "}\n",
    "\n",
    "# Example: Finding the amino acid for a given codon\n",
    "codon = \"ATG\"\n",
    "amino_acid = codon_to_amino_acid.get(codon, \"Unknown codon\")\n",
    "print(f\"The codon {codon} codes for the amino acid: {amino_acid}\")\n",
    "\n",
    "# Adding a new codon-amino acid mapping\n",
    "codon_to_amino_acid[\"TAA\"] = \"*\"\n",
    "codon_to_amino_acid[\"TAG\"] = \"*\"\n",
    "codon_to_amino_acid[\"TGA\"] = \"*\"\n",
    "\n",
    "# Print the updated dictionary\n",
    "print(f\"Stop codons ({len(codon_to_amino_acid)}):\")\n",
    "for codon, amino_acid in codon_to_amino_acid.items():\n",
    "    if amino_acid == \"*\":\n",
    "        print(f\"\\t{codon}: {amino_acid}\")"
   ]
  }
 ],
 "metadata": {
  "kernelspec": {
   "display_name": "Python 3",
   "language": "python",
   "name": "python3"
  },
  "language_info": {
   "codemirror_mode": {
    "name": "ipython",
    "version": 3
   },
   "file_extension": ".py",
   "mimetype": "text/x-python",
   "name": "python",
   "nbconvert_exporter": "python",
   "pygments_lexer": "ipython3",
   "version": "3.10.14"
  }
 },
 "nbformat": 4,
 "nbformat_minor": 2
}
