{
 "cells": [
  {
   "cell_type": "markdown",
   "metadata": {},
   "source": [
    "# A class is the template for an object (instance)\n",
    "\n",
    "In Python we constantly use **objects** (like strings!), and their methods (like `astring.len()`). A method is like a function, but it belongs to an object created from a class. Methods can use and change the object's data.\n",
    "\n",
    "This short notebook gives and idea about how to create a custom class.\n",
    "\n",
    "We will create a class for storing sequences."
   ]
  },
  {
   "cell_type": "code",
   "execution_count": 3,
   "metadata": {},
   "outputs": [
    {
     "name": "stdout",
     "output_type": "stream",
     "text": [
      ">my_sequence\n",
      "GATTACAGATTACGTACTCGTACTTACGTGAGGTGT\n"
     ]
    }
   ],
   "source": [
    "# What is a sequence?\n",
    "sequence = \"GATTACAGATTACGTACTCGTACTTACGTGAGGTGT\"\n",
    "seq_name = \"my_sequence\"\n",
    "print(f\">{seq_name}\\n{sequence}\")\n"
   ]
  },
  {
   "cell_type": "markdown",
   "metadata": {},
   "source": [
    "Now let's try to formalise a class for the storing the sequence. **At the end of this notebook an explanation**"
   ]
  },
  {
   "cell_type": "code",
   "execution_count": 4,
   "metadata": {},
   "outputs": [],
   "source": [
    "class DNASequence:\n",
    "    def __init__(self, sequence, name, description=\"\"):\n",
    "        self.sequence = sequence.upper()\n",
    "        self.name = name\n",
    "        self.description = description\n",
    "\n",
    "    def __len__(self):\n",
    "        return len(self.sequence)\n",
    "\n",
    "    def __str__(self):\n",
    "        desc_str = f\" {self.description}\" if self.description else \"\"\n",
    "        return f\">{self.name}{desc_str}\\n{self.sequence}\"\n",
    "\n",
    "    def rc(self):\n",
    "        complement = {'A': 'T', 'T': 'A', 'C': 'G', 'G': 'C'}\n",
    "        rev_comp = ''.join(complement[base] for base in reversed(self.sequence))\n",
    "        return DNASequence(rev_comp, self.name + \"_rc\", self.description)\n"
   ]
  },
  {
   "cell_type": "markdown",
   "metadata": {},
   "source": [
    "now we can create as many instances of this class as we need. Let's try:"
   ]
  },
  {
   "cell_type": "code",
   "execution_count": 6,
   "metadata": {},
   "outputs": [
    {
     "name": "stdout",
     "output_type": "stream",
     "text": [
      ">SampleSeq Example description\n",
      "ATGCGTA\n",
      ">SampleSeq\n",
      "ATGCGTA\n"
     ]
    }
   ],
   "source": [
    "dna1 = DNASequence(\"ATGCGTA\", \"SampleSeq\", \"Example description\")\n",
    "dna2 = DNASequence(\"atgcgta\", \"SampleSeq\")\n",
    "print(dna1)               # Prints in FASTA format\n",
    "print(dna2)\n"
   ]
  },
  {
   "cell_type": "markdown",
   "metadata": {},
   "source": [
    "as you can see when we print an object, if we define the special `__str__` method Python will use that to render the content as we wish.\n",
    "\n",
    "We can now try some more methods:"
   ]
  },
  {
   "cell_type": "code",
   "execution_count": 8,
   "metadata": {},
   "outputs": [
    {
     "name": "stdout",
     "output_type": "stream",
     "text": [
      "Length dna1: 7\n",
      "Length dna2: 7\n",
      "----\n",
      "reverse complement of dna1:\n",
      ">SampleSeq_rc Example description\n",
      "TACGCAT\n"
     ]
    }
   ],
   "source": [
    "\n",
    "print(\"Length dna1:\", len(dna1))  # Prints the length of the sequence\n",
    "print(\"Length dna2:\", len(dna1))  # Prints the length of the sequence\n",
    "\n",
    "print(\"----\\nreverse complement of dna1:\")\n",
    "print(dna1.rc())          # Prints the reverse complement in FASTA format\n",
    "\n"
   ]
  },
  {
   "cell_type": "markdown",
   "metadata": {},
   "source": [
    "what happens if we compare the two sequences?"
   ]
  },
  {
   "cell_type": "code",
   "execution_count": 9,
   "metadata": {},
   "outputs": [
    {
     "name": "stdout",
     "output_type": "stream",
     "text": [
      "Sequences are different\n"
     ]
    }
   ],
   "source": [
    "if (dna1 == dna2):\n",
    "    print(\"Sequences are the same\")\n",
    "else:\n",
    "    print(\"Sequences are different\")"
   ]
  },
  {
   "cell_type": "markdown",
   "metadata": {},
   "source": [
    "HINT: we can also control the equality with `__eq__`..."
   ]
  },
  {
   "cell_type": "markdown",
   "metadata": {},
   "source": [
    "## Some explanations\n",
    "\n",
    "The functions inside the class are called methods, and some are special (surrounded by double underscore). We can create as many methods as we want, like our `rc()` method.\n",
    "\n",
    "### Constructor (`__init__` method)\n",
    "\n",
    "a constructor is a special function in a class that gets called automatically when you create a new instance (object) of that class. Think of it as a way to set up your object with some initial values or settings.\n",
    "\n",
    "Key Points about a Constructor:\n",
    "\n",
    "*    Automatic Call: When you create a new object, the constructor runs by itself.\n",
    "*    Initialization: It sets up the object's initial state by assigning values to its attributes.\n",
    "*    Special Name: In Python, the constructor method is always named __init__.\n",
    "\n",
    "In our case it takes a **sequence**, **name**, and an optional **description**.\n",
    "Converts the sequence to uppercase to ensure consistency.\n",
    "\n",
    "### `__len__` method:\n",
    "\n",
    "the `__len__` method in a class allows you to use the built-in len() function to get the length of an object. It's like giving your custom objects the ability to tell how big they are. \n",
    "\n",
    "In our case it makes sense to simply return the length of the sequence (ignoring name and description)\n",
    "\n",
    "### `__str__` method\n",
    "\n",
    "Formats the output as a FASTA formatted string when the object is printed. When python is asked to prints an object it will use the __str__ method. \n",
    "\n",
    "If that is missing... try yourself and see!\n",
    "\n",
    "### rc() custom method\n",
    "\n",
    "Computes the reverse complement of the DNA sequence.\n",
    "\n",
    "Creates and returns a new DNASequence object with the reverse complement sequence."
   ]
  },
  {
   "cell_type": "code",
   "execution_count": null,
   "metadata": {},
   "outputs": [],
   "source": [
    "class DNASequence:\n",
    "    # Standard genetic code dictionary\n",
    "    codon_table = {\n",
    "        'ATA':'I', 'ATC':'I', 'ATT':'I', 'ATG':'M',\n",
    "        'ACA':'T', 'ACC':'T', 'ACG':'T', 'ACT':'T',\n",
    "        'AAC':'N', 'AAT':'N', 'AAA':'K', 'AAG':'K',\n",
    "        'AGC':'S', 'AGT':'S', 'AGA':'R', 'AGG':'R',\n",
    "        'CTA':'L', 'CTC':'L', 'CTG':'L', 'CTT':'L',\n",
    "        'CCA':'P', 'CCC':'P', 'CCG':'P', 'CCT':'P',\n",
    "        'CAC':'H', 'CAT':'H', 'CAA':'Q', 'CAG':'Q',\n",
    "        'CGA':'R', 'CGC':'R', 'CGG':'R', 'CGT':'R',\n",
    "        'GTA':'V', 'GTC':'V', 'GTG':'V', 'GTT':'V',\n",
    "        'GCA':'A', 'GCC':'A', 'GCG':'A', 'GCT':'A',\n",
    "        'GAC':'D', 'GAT':'D', 'GAA':'E', 'GAG':'E',\n",
    "        'GGA':'G', 'GGC':'G', 'GGG':'G', 'GGT':'G',\n",
    "        'TCA':'S', 'TCC':'S', 'TCG':'S', 'TCT':'S',\n",
    "        'TTC':'F', 'TTT':'F', 'TTA':'L', 'TTG':'L',\n",
    "        'TAC':'Y', 'TAT':'Y', 'TAA':'*', 'TAG':'*',\n",
    "        'TGC':'C', 'TGT':'C', 'TGA':'*', 'TGG':'W',\n",
    "    }\n",
    "\n",
    "    def __init__(self, sequence, name, description=\"\"):\n",
    "        self.sequence = sequence.upper()\n",
    "        self.name = name\n",
    "        self.description = description\n",
    "\n",
    "    def __len__(self):\n",
    "        return len(self.sequence)\n",
    "\n",
    "    def __str__(self):\n",
    "        desc_str = f\" {self.description}\" if self.description else \"\"\n",
    "        return f\">{self.name}{desc_str}\\n{self.sequence}\"\n",
    "\n",
    "    def __eq__(self, other):\n",
    "        return self.sequence == other.sequence\n",
    "    \n",
    "    def rc(self):\n",
    "        complement = {'A': 'T', 'T': 'A', 'C': 'G', 'G': 'C'}\n",
    "        rev_comp = ''.join(complement[base] for base in reversed(self.sequence))\n",
    "        return DNASequence(rev_comp, self.name + \"_rc\", self.description)\n",
    "    \n",
    "    def translate(self):\n",
    "        protein = []\n",
    "        # Process the DNA sequence in chunks of three (codons)\n",
    "        for i in range(0, len(self.sequence), 3):\n",
    "            codon = self.sequence[i:i+3]\n",
    "            if len(codon) == 3:\n",
    "                protein.append(self.codon_table.get(codon, 'X'))  # 'X' for unknown codons\n",
    "        return ''.join(protein)"
   ]
  }
 ],
 "metadata": {
  "kernelspec": {
   "display_name": "pystart",
   "language": "python",
   "name": "python3"
  },
  "language_info": {
   "codemirror_mode": {
    "name": "ipython",
    "version": 3
   },
   "file_extension": ".py",
   "mimetype": "text/x-python",
   "name": "python",
   "nbconvert_exporter": "python",
   "pygments_lexer": "ipython3",
   "version": "3.10.14"
  }
 },
 "nbformat": 4,
 "nbformat_minor": 2
}
