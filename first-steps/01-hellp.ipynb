{
 "cells": [
  {
   "cell_type": "markdown",
   "metadata": {},
   "source": [
    "# Print and assign"
   ]
  },
  {
   "cell_type": "markdown",
   "metadata": {},
   "source": [
    "The `print()` function allows to display some text to the terminal.\n",
    "In Python every statement must end with a newline.\n",
    "\n",
    "Here we try some print statements, and we will see that `\\t` will be converted to a tab, while `\\n` to a *new line* character."
   ]
  },
  {
   "cell_type": "code",
   "execution_count": 2,
   "metadata": {},
   "outputs": [
    {
     "name": "stdout",
     "output_type": "stream",
     "text": [
      "Hello world!\n",
      "Watson\tCrick\tFranklin\n",
      "Wilkins\n"
     ]
    }
   ],
   "source": [
    "print(\"Hello world!\")\n",
    "print(\"Watson\\tCrick\\t\", end=\"\")\n",
    "print(\"Franklin\\nWilkins\")"
   ]
  },
  {
   "cell_type": "markdown",
   "metadata": {},
   "source": [
    "Now we can introduce some new **variables**. \n",
    "A variable is a named location in memory that stores a value which can be changed during program execution. \n",
    "\n",
    "Variables allow you to store, modify, and retrieve data efficiently. \n",
    "\n",
    "In Python, assignment is done using the equal sign (`=`). \n",
    "The variable name appears on the left side of the equal sign, and the value to be stored appears on the right side.\n"
   ]
  },
  {
   "cell_type": "code",
   "execution_count": 3,
   "metadata": {},
   "outputs": [],
   "source": [
    "# Variable assignments\n",
    "codon1 = \"ATG\"\n",
    "codon2 = \"TAA\"\n",
    "codon3 = \"GCA\""
   ]
  },
  {
   "cell_type": "markdown",
   "metadata": {},
   "source": [
    "Executing the first block does not show any output: we just assigned some values (codons) to variables.\n",
    "Now we can print them"
   ]
  },
  {
   "cell_type": "code",
   "execution_count": 4,
   "metadata": {},
   "outputs": [
    {
     "name": "stdout",
     "output_type": "stream",
     "text": [
      "ATG\n",
      "TAA\n",
      "GCA\n"
     ]
    }
   ],
   "source": [
    "# Printing variables using print statement\n",
    "print(codon1)\n",
    "print(codon2)\n",
    "print(codon3)"
   ]
  },
  {
   "cell_type": "markdown",
   "metadata": {},
   "source": [
    "\n",
    "# Concatenating variables in print statement\n",
    "print(codon1 + codon2 + codon3)\n",
    "\n",
    "# Formatting strings using f-string\n",
    "print(f\"The DNA codons are: {codon1}, {codon2}, {codon3}\")\n",
    "\n",
    "# Formatting strings using format() method\n",
    "print(\"The DNA codons are: {}, {}, {}\".format(codon1, codon2, codon3))\n",
    "\n",
    "# Formatting strings using % operator\n",
    "print(\"The DNA codons are: %s, %s, %s\" % (codon1, "
   ]
  }
 ],
 "metadata": {
  "kernelspec": {
   "display_name": "Python 3",
   "language": "python",
   "name": "python3"
  },
  "language_info": {
   "codemirror_mode": {
    "name": "ipython",
    "version": 3
   },
   "file_extension": ".py",
   "mimetype": "text/x-python",
   "name": "python",
   "nbconvert_exporter": "python",
   "pygments_lexer": "ipython3",
   "version": "3.10.14"
  }
 },
 "nbformat": 4,
 "nbformat_minor": 2
}
